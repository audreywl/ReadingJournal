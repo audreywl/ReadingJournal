{
 "cells": [
  {
   "cell_type": "markdown",
   "metadata": {},
   "source": [
    "# Day 10 Reading Journal\n",
    "\n",
    "This journal includes several required exercises, but it is meant to encourage active reading more generally.  You should use the journal to take detailed notes, catalog questions, and explore the content from Think Python deeply.\n",
    "\n",
    "Reading: Think Python Chapter 16, 17\n",
    "\n",
    "**Due: Thursday, February 25 at 12 noon**\n",
    "\n"
   ]
  },
  {
   "cell_type": "markdown",
   "metadata": {},
   "source": [
    "## [Chapter 16](http://www.greenteapress.com/thinkpython/html/thinkpython017.html)\n"
   ]
  },
  {
   "cell_type": "markdown",
   "metadata": {
    "is_question": true,
    "problem": "Exercise 16.2"
   },
   "source": [
    "### Exercise 2  \n",
    "\n",
    "Write a boolean function called `is_after` that takes two `Time` objects, `t1` and `t2`, and returns `True` if `t1` follows `t2` chronologically and `False` otherwise. Challenge: don’t use an `if` statement. "
   ]
  },
  {
   "cell_type": "code",
   "execution_count": 7,
   "metadata": {
    "collapsed": false,
    "solution": "Exercise 16.2"
   },
   "outputs": [
    {
     "name": "stdout",
     "output_type": "stream",
     "text": [
      "True\n",
      "False\n",
      "True\n"
     ]
    }
   ],
   "source": [
    "class Time(object):\n",
    "    \"\"\"Represents the time of day.\n",
    "    attributes: hour, minute, second\n",
    "    \"\"\"\n",
    "\n",
    "time = Time()\n",
    "time.hour = 11\n",
    "time.minute = 59\n",
    "time.second = 3\n",
    "\n",
    "time2 = Time()\n",
    "time2.hour = 8\n",
    "time2.minute = 59\n",
    "time2.second = 30\n",
    "\n",
    "time3 = Time()\n",
    "time3.hour = 11\n",
    "time3.minute = 59\n",
    "time3.second = 2\n",
    "\n",
    "def is_after(t1,t2):\n",
    "    t1_attributes=[t1.hour, t1.minute, t1.second]\n",
    "    t2_attributes=[t2.hour, t2.minute, t2.second]\n",
    "    for i in range(3):\n",
    "        if t1_attributes[i]>t2_attributes[i]:\n",
    "            return True\n",
    "        elif t1_attributes[i]<t2_attributes[i]:\n",
    "            return False\n",
    "        else:\n",
    "            continue\n",
    "\n",
    "print is_after(time, time2)\n",
    "print is_after(time2, time)\n",
    "print is_after(time, time3)"
   ]
  },
  {
   "cell_type": "markdown",
   "metadata": {},
   "source": [
    "## [Chapter 17](http://www.greenteapress.com/thinkpython/html/thinkpython018.html)\n",
    "\n",
    "In chapter 17 we finally have the tools to really put user-defined classes to work! In the exercises for this reading journal, we'll go back and add methods to your `Point` class from Chapter 15 to make it a lot easier to use."
   ]
  },
  {
   "cell_type": "markdown",
   "metadata": {
    "is_question": true,
    "problem": "Exercise 17.2"
   },
   "source": [
    "### Exercise 2  \n",
    "\n",
    "Write an init method for the `Point` class that takes `x` and `y` as optional parameters and assigns them to the corresponding attributes. "
   ]
  },
  {
   "cell_type": "code",
   "execution_count": 9,
   "metadata": {
    "collapsed": false,
    "solution": "Exercise 17.2"
   },
   "outputs": [
    {
     "name": "stdout",
     "output_type": "stream",
     "text": [
      "0 0\n",
      "5 7\n"
     ]
    }
   ],
   "source": [
    "class Point(object):\n",
    "    \"\"\"represents a point in 2D space\"\"\"\n",
    "    def __init__(self, x=0, y=0):\n",
    "        self.x=x\n",
    "        self.y=y\n",
    "\n",
    "        \n",
    "point1=Point()\n",
    "print point1.x,\n",
    "print point1.y\n",
    "\n",
    "point2=Point(5,7)\n",
    "print point2.x,\n",
    "print point2.y"
   ]
  },
  {
   "cell_type": "markdown",
   "metadata": {
    "is_question": true,
    "problem": "Exercise 17.3"
   },
   "source": [
    "### Exercise 3  \n",
    "\n",
    "Write a str method for the `Point` class. Create a `Point` object and print it."
   ]
  },
  {
   "cell_type": "code",
   "execution_count": 10,
   "metadata": {
    "collapsed": false,
    "solution": "Exercise 17.3"
   },
   "outputs": [
    {
     "name": "stdout",
     "output_type": "stream",
     "text": [
      "(0,0)\n",
      "(5,7)\n"
     ]
    }
   ],
   "source": [
    "class Point(object):\n",
    "    \"\"\"represents a point in 2D space\"\"\"\n",
    "    def __init__(self, x=0, y=0):\n",
    "        self.x=x\n",
    "        self.y=y\n",
    "    def __str__(self):\n",
    "        pretty_point='('+str(self.x)+','+str(self.y)+')'\n",
    "        return pretty_point\n",
    "\n",
    "point1=Point()\n",
    "print point1\n",
    "\n",
    "point2=Point(5,7)\n",
    "print point2"
   ]
  },
  {
   "cell_type": "markdown",
   "metadata": {
    "is_question": true,
    "problem": "Exercise 17.4"
   },
   "source": [
    "### Exercise 4  \n",
    "\n",
    "Write an add method for the `Point` class. Optional: implement operator overloading so that you can use the '+' operator."
   ]
  },
  {
   "cell_type": "code",
   "execution_count": 11,
   "metadata": {
    "collapsed": false,
    "solution": "Exercise 17.4"
   },
   "outputs": [
    {
     "name": "stdout",
     "output_type": "stream",
     "text": [
      "(8,21)\n",
      "(0,0)\n"
     ]
    }
   ],
   "source": [
    "class Point(object):\n",
    "    \"\"\"represents a point in 2D space\"\"\"\n",
    "    def __init__(self, x=0, y=0):\n",
    "        self.x=x\n",
    "        self.y=y\n",
    "    def __str__(self):\n",
    "        pretty_point='('+str(self.x)+','+str(self.y)+')'\n",
    "        return pretty_point\n",
    "    def __add__(self, other):\n",
    "        newpoint=Point(object)\n",
    "        newpoint.x=self.x+other.x\n",
    "        newpoint.y=self.y+other.y\n",
    "        return newpoint\n",
    "\n",
    "point1=Point()\n",
    "\n",
    "point2=Point(5,7)\n",
    "\n",
    "point3=Point(3,14)\n",
    "\n",
    "print point2+point3\n",
    "\n",
    "print point1+point1"
   ]
  },
  {
   "cell_type": "markdown",
   "metadata": {
    "is_question": true,
    "problem": "Exercise 17.7"
   },
   "source": [
    "### Exercise 7  \n",
    "\n",
    "This exercise is a cautionary tale about one of the most common, and difficult to find, errors in Python. Write a definition for a class named `Kangaroo` with the following methods:\n",
    "\n",
    " 1. An `__init__` method that initializes an attribute named `pouch_contents` to an empty list.\n",
    " 2. A method named `put_in_pouch` that takes an object of any type and adds it to `pouch_contents`.\n",
    " 3. A `__str__` method that returns a string representation of the `Kangaroo` object and the contents of the pouch.\n",
    "\n",
    "Test your code by creating two `Kangaroo` objects, assigning them to variables named `kanga` and `roo`, and then adding `roo` to the contents of `kanga`’s pouch.\n",
    "\n",
    "Download http://thinkpython.com/code/BadKangaroo.py. It contains a solution to the previous problem with one big, nasty bug. Find and fix the bug.\n",
    "\n",
    "If you get stuck, you can download http://thinkpython.com/code/GoodKangaroo.py, which explains the problem and demonstrates a solution. "
   ]
  },
  {
   "cell_type": "code",
   "execution_count": 32,
   "metadata": {
    "collapsed": false,
    "solution": "Exercise 17.7"
   },
   "outputs": [
    {
     "name": "stdout",
     "output_type": "stream",
     "text": [
      "<__main__.Kangaroo object at 0x7f5b1c97fa50>holds [<__main__.Kangaroo object at 0x7f5b1c97ff50>, 'fruits'] in its pouch!\n",
      "<__main__.Kangaroo object at 0x7f5b1c8e0c50>holds [] in its pouch!\n",
      "<__main__.Kangaroo object at 0x7f5b1c97ff50>holds ['fruits'] in its pouch!\n"
     ]
    }
   ],
   "source": [
    "class Kangaroo(object):\n",
    "    def __init__(self, pouch_contents=None):\n",
    "        if pouch_contents==None:\n",
    "            self.pouch_contents=[]\n",
    "        elif isinstance(pouch_contents, list):\n",
    "            self.pouch_contents=pouch_contents\n",
    "        else:\n",
    "            self.pouch_contents=[pouch_contents]\n",
    "            \n",
    "    def put_in_pouch(self, pouch_contents):\n",
    "        current_pouch = self.pouch_contents\n",
    "        current_pouch.append(pouch_contents)\n",
    "    \n",
    "    def __str__(self):\n",
    "        name=object.__str__(self)\n",
    "        pretty_kanga=name + 'holds '+str(self.pouch_contents)+' in its pouch!'\n",
    "        return pretty_kanga\n",
    "    \n",
    "kanga=Kangaroo()\n",
    "\n",
    "roo=Kangaroo('fruits')\n",
    "\n",
    "new_roo=Kangaroo()\n",
    "\n",
    "kanga.put_in_pouch(roo)\n",
    "kanga.put_in_pouch('fruits')\n",
    "\n",
    "print kanga\n",
    "print new_roo\n",
    "print roo"
   ]
  },
  {
   "cell_type": "code",
   "execution_count": 28,
   "metadata": {
    "collapsed": false
   },
   "outputs": [
    {
     "name": "stdout",
     "output_type": "stream",
     "text": [
      "<__main__.Kangaroo object at 0x7f5b1c8e0b90> with pouch contents:\n",
      "    'wallet'\n",
      "    'car keys'\n",
      "    '????'\n",
      "<__main__.Kangaroo object at 0x7f5b1c8e0b10> with pouch contents:\n",
      "    'wallet'\n",
      "    'car keys'\n",
      "    '????'\n"
     ]
    }
   ],
   "source": [
    "class Kangaroo(object):\n",
    "    \"\"\"a Kangaroo is a marsupial\"\"\"\n",
    "    \n",
    "    def __init__(self, contents=[]):\n",
    "        \"\"\"initialize the pouch contents; the default value is\n",
    "        an empty list\"\"\"\n",
    "        self.pouch_contents = contents\n",
    "    def put_in_pouch(self, item):\n",
    "        \"\"\"add a new item to the pouch contents\"\"\"\n",
    "        stuff=self.pouch_contents\n",
    "        stuff.append(item)\n",
    "        \n",
    "    def __str__(self):\n",
    "        \"\"\"return a string representaion of this Kangaroo and\n",
    "        the contents of the pouch, with one item per line\"\"\"\n",
    "        t = [ object.__str__(self) + ' with pouch contents:' ]\n",
    "        for obj in self.pouch_contents:\n",
    "            s = '    ' + object.__str__(obj)\n",
    "            t.append(s)\n",
    "        return '\\n'.join(t)\n",
    "\n",
    "    \n",
    "\n",
    "kanga = Kangaroo()\n",
    "roo = Kangaroo()\n",
    "kanga.put_in_pouch('wallet')\n",
    "kanga.put_in_pouch('car keys')\n",
    "roo.put_in_pouch('????')\n",
    "#kanga.put_in_pouch(roo)\n",
    "\n",
    "print kanga\n",
    "print roo"
   ]
  },
  {
   "cell_type": "markdown",
   "metadata": {},
   "source": [
    "I read the explanation and think the whole \"the default value is the SAME empty list\" thing is extrordinarily dumb. Fixed my own code accordingly."
   ]
  },
  {
   "cell_type": "markdown",
   "metadata": {
    "is_question": true,
    "problem": "Time spent"
   },
   "source": [
    "## Quick poll\n",
    "About how long did you spend working on this Reading Journal?"
   ]
  },
  {
   "cell_type": "markdown",
   "metadata": {
    "poll_response": true,
    "solution": "Time spent"
   },
   "source": [
    "About an hour"
   ]
  },
  {
   "cell_type": "markdown",
   "metadata": {
    "is_question": true,
    "problem": "Feedback"
   },
   "source": [
    "## Reading Journal feedback\n",
    "\n",
    "Have any comments on this Reading Journal? Feel free to leave them below and we'll read them when you submit your journal entry. This could include suggestions to improve the exercises, topics you'd like to see covered in class next time, or other feedback.\n",
    "\n",
    "If you have Python questions or run into problems while completing the reading, you should post them to Piazza instead so you can get a quick response before your journal is submitted."
   ]
  },
  {
   "cell_type": "markdown",
   "metadata": {
    "feedback_response": true,
    "solution": "Feedback"
   },
   "source": [
    " "
   ]
  }
 ],
 "metadata": {
  "celltoolbar": "Edit Metadata",
  "kernelspec": {
   "display_name": "Python 2",
   "language": "python",
   "name": "python2"
  },
  "language_info": {
   "codemirror_mode": {
    "name": "ipython",
    "version": 2
   },
   "file_extension": ".py",
   "mimetype": "text/x-python",
   "name": "python",
   "nbconvert_exporter": "python",
   "pygments_lexer": "ipython2",
   "version": "2.7.6"
  }
 },
 "nbformat": 4,
 "nbformat_minor": 0
}
